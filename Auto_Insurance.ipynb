{
  "cells": [
    {
      "cell_type": "markdown",
      "metadata": {
        "id": "view-in-github",
        "colab_type": "text"
      },
      "source": [
        "<a href=\"https://colab.research.google.com/github/Somu112/Auto-Insurence.../blob/main/Auto_Insurance.ipynb\" target=\"_parent\"><img src=\"https://colab.research.google.com/assets/colab-badge.svg\" alt=\"Open In Colab\"/></a>"
      ]
    },
    {
      "cell_type": "code",
      "execution_count": 1,
      "metadata": {
        "colab": {
          "base_uri": "https://localhost:8080/"
        },
        "id": "AeANtNSIyX8S",
        "outputId": "0ea359d9-7b3a-4eea-99de-0e7655680499"
      },
      "outputs": [
        {
          "output_type": "stream",
          "name": "stdout",
          "text": [
            "Mon Jan  3 18:18:33 2022       \n",
            "+-----------------------------------------------------------------------------+\n",
            "| NVIDIA-SMI 495.44       Driver Version: 460.32.03    CUDA Version: 11.2     |\n",
            "|-------------------------------+----------------------+----------------------+\n",
            "| GPU  Name        Persistence-M| Bus-Id        Disp.A | Volatile Uncorr. ECC |\n",
            "| Fan  Temp  Perf  Pwr:Usage/Cap|         Memory-Usage | GPU-Util  Compute M. |\n",
            "|                               |                      |               MIG M. |\n",
            "|===============================+======================+======================|\n",
            "|   0  Tesla K80           Off  | 00000000:00:04.0 Off |                    0 |\n",
            "| N/A   46C    P8    30W / 149W |      0MiB / 11441MiB |      0%      Default |\n",
            "|                               |                      |                  N/A |\n",
            "+-------------------------------+----------------------+----------------------+\n",
            "                                                                               \n",
            "+-----------------------------------------------------------------------------+\n",
            "| Processes:                                                                  |\n",
            "|  GPU   GI   CI        PID   Type   Process name                  GPU Memory |\n",
            "|        ID   ID                                                   Usage      |\n",
            "|=============================================================================|\n",
            "|  No running processes found                                                 |\n",
            "+-----------------------------------------------------------------------------+\n"
          ]
        }
      ],
      "source": [
        "!nvidia-smi"
      ]
    },
    {
      "cell_type": "code",
      "execution_count": 2,
      "metadata": {
        "id": "oCQJ0hdI-xrY"
      },
      "outputs": [],
      "source": [
        "import numpy as np # linear algebra\n",
        "import pandas as pd # data processing, CSV file I/O (e.g. pd.read_csv)"
      ]
    },
    {
      "cell_type": "code",
      "execution_count": 3,
      "metadata": {
        "colab": {
          "base_uri": "https://localhost:8080/",
          "height": 90
        },
        "id": "L5UxAfQH8-_Z",
        "outputId": "4e5bbd24-598a-4cd2-f91a-8d5d5f655a7a"
      },
      "outputs": [
        {
          "output_type": "stream",
          "name": "stderr",
          "text": [
            "/usr/local/lib/python3.7/dist-packages/statsmodels/tools/_testing.py:19: FutureWarning:\n",
            "\n",
            "pandas.util.testing is deprecated. Use the functions in the public API at pandas.testing instead.\n",
            "\n"
          ]
        },
        {
          "output_type": "display_data",
          "data": {
            "text/html": [
              "        <script type=\"text/javascript\">\n",
              "        window.PlotlyConfig = {MathJaxConfig: 'local'};\n",
              "        if (window.MathJax) {MathJax.Hub.Config({SVG: {font: \"STIX-Web\"}});}\n",
              "        if (typeof require !== 'undefined') {\n",
              "        require.undef(\"plotly\");\n",
              "        requirejs.config({\n",
              "            paths: {\n",
              "                'plotly': ['https://cdn.plot.ly/plotly-latest.min']\n",
              "            }\n",
              "        });\n",
              "        require(['plotly'], function(Plotly) {\n",
              "            window._Plotly = Plotly;\n",
              "        });\n",
              "        }\n",
              "        </script>\n",
              "        "
            ]
          },
          "metadata": {}
        }
      ],
      "source": [
        "from datetime import datetime\n",
        "from sklearn.linear_model import LogisticRegression\n",
        "from sklearn import svm\n",
        "from sklearn.model_selection import RandomizedSearchCV, GridSearchCV\n",
        "from xgboost import XGBClassifier\n",
        "import xgboost as xgb\n",
        "from sklearn.ensemble import RandomForestClassifier\n",
        "from sklearn.ensemble import AdaBoostClassifier\n",
        "from sklearn.neural_network import MLPClassifier\n",
        "from sklearn import metrics\n",
        "from sklearn.metrics import confusion_matrix,mean_squared_error,accuracy_score\n",
        "from sklearn.metrics import precision_score,recall_score,roc_auc_score,f1_score,cohen_kappa_score\n",
        "from sklearn.utils import resample\n",
        "from pprint import pprint\n",
        "import plotly as py\n",
        "import plotly.graph_objs as go\n",
        "import matplotlib.pyplot as plt\n",
        "import seaborn as sns\n",
        "import math\n",
        "from IPython.display import Markdown, display\n",
        "import statsmodels.api as sm # import API\n",
        "from matplotlib.pyplot import xticks\n",
        "sns.set(style=\"whitegrid\")\n",
        "pd.set_option('display.max_columns', 100)\n",
        "py.offline.init_notebook_mode(connected=True)\n",
        "pd.options.display.float_format = '{:20,.2f}'.format \n",
        "import warnings\n",
        "warnings.filterwarnings('ignore')\n",
        "%matplotlib inline\n"
      ]
    },
    {
      "cell_type": "code",
      "execution_count": 4,
      "metadata": {
        "id": "JwxmK1fJ9D4k"
      },
      "outputs": [],
      "source": [
        "def log(string):\n",
        "    display(Markdown(\"> <span style='color:blue'>\"+string+\"</span>\"))\n",
        "\n",
        "def header(string):\n",
        "    display(Markdown(\"------ \"))\n",
        "    display(Markdown(\"### \"+string))\n",
        "\n",
        "def get_variable_type(element) :\n",
        "  if element==0:\n",
        "    return \"Not Known\"\n",
        "  elif element < 20 and element!=0:\n",
        "    return \"Categorical\"\n",
        "  elif element >= 20 and element!=0 :\n",
        "    return \"Contineous\"\n",
        "\n",
        "def predict_variable_type(metadata_matrix):\n",
        "    metadata_matrix[\"Variable_Type\"] = metadata_matrix[\"Unique_Values_Count\"].apply(get_variable_type).astype(str)\n",
        "    metadata_matrix[\"frequency\"] = metadata_matrix[\"Null_Count\"] - metadata_matrix[\"Null_Count\"]\n",
        "    metadata_matrix[\"frequency\"].astype(int)\n",
        "    return metadata_matrix \n",
        "\n",
        "def get_meta_data(dataframe) :\n",
        "   metadata_matrix = pd.DataFrame({\n",
        "                    'Datatype' : dataframe.dtypes.astype(str), # data types of columns\n",
        "                    'Non_Null_Count': dataframe.count(axis = 0).astype(int), # total elements in columns\n",
        "                    'Null_Count': dataframe.isnull().sum().astype(int), # total null values in columns\n",
        "                    'Null_Percentage': dataframe.isnull().sum()/len(dataframe) * 100, # percentage of null values\n",
        "                    'Unique_Values_Count': dataframe.nunique().astype(int) # number of unique values\n",
        "                     })\n",
        "   metadata_matrix = predict_variable_type(metadata_matrix)\n",
        "   return metadata_matrix\n",
        "\n",
        "def plot_data_pie_chat(dataframe,col): \n",
        "  header(\"Stats for \"+col+\" Datatype Percentage Distribution\")\n",
        "  dataframe_group = dataframe.groupby(col).frequency.count().reset_index()\n",
        "  dataframe_group.sort_values([col], axis=0,ascending=False, inplace=True)\n",
        "  trace = go.Pie(labels=dataframe_group[col].tolist(), values=dataframe_group[\"frequency\"].tolist())\n",
        "  layout = go.Layout(title=\"Datatype Percentage Distribution\")\n",
        "  fig = go.Figure(data=[trace], layout=layout)    \n",
        "  py.offline.iplot(fig)\n",
        "  def pairplot(x_axis,y_axis):\n",
        "    sns.pairplot(car_df,x_vars=x_axis,y_vars=y_axis,height=4,aspect=1,kind=\"scatter\")\n",
        "    plt.show()\n",
        "\n",
        "def heatmap(x,y,dataframe):\n",
        "  plt.figure(figsize=(x,y))\n",
        "  sns.heatmap(dataframe.corr(),cmap=\"OrRd\",annot=True)\n",
        "  plt.show()\n",
        "\n",
        "def bar_count_plot(dataframe,col_name):\n",
        "  plt.figure(figsize=(16,8))\n",
        "  plt.title(col_name + 'Histogram')\n",
        "  sns.countplot(dataframe[col_name], palette=(\"plasma\"))\n",
        "  xticks(rotation = 90)\n",
        "  plt.show()\n",
        "def color_red(val):\n",
        "  color = 'red' if val > 5 else 'black'\n",
        "  return 'color: %s' % color\n",
        "\n",
        "def accuracy_result(y_test, y_pred_test):\n",
        "  from sklearn import metrics\n",
        "  from sklearn.metrics import confusion_matrix, classification_report\n",
        "  confusion_matrix=metrics.confusion_matrix(y_test, y_pred_test)\n",
        "  print('\\n CONFUSION MATRIX:\\n ', confusion_matrix,'\\n')\n",
        "  TP = confusion_matrix[1, 1]\n",
        "  TN = confusion_matrix[0, 0]\n",
        "  FP = confusion_matrix[0, 1]\n",
        "  FN = confusion_matrix[1, 0]\n",
        "  false_positive_rate = round(FP / float(TN + FP),3)\n",
        "  print('FPR: ', false_positive_rate)\n",
        "  print('TPR/ RECALL/ SENSTIVITY: ', round(metrics.recall_score(y_test, y_pred_test), 3))\n",
        "  print('PRECISION:' ,round(metrics.precision_score(y_test, y_pred_test), 3))\n",
        "  specificity = round(TN / (TN + FP),3)\n",
        "  print('SPECIFICITY: ',specificity)\n",
        "  print('ACCURACY: ', np.round(metrics.accuracy_score(y_test, y_pred_test),3))\n",
        "  print('ROC AUC: ', np.round(roc_auc_score(y_test, y_pred_test),3))\n",
        "  print('Cohens kappa: ',np.round(cohen_kappa_score(y_test, y_pred_test),3))\n",
        "  print('F1 score: ', np.round(f1_score(y_test, y_pred_test),3))\n",
        "  print('\\n CLASSIFICATION REPORT: \\n',classification_report(y_test,y_pred_test))\n",
        "  return "
      ]
    },
    {
      "cell_type": "code",
      "execution_count": 5,
      "metadata": {
        "colab": {
          "base_uri": "https://localhost:8080/",
          "height": 270
        },
        "id": "olx87mAf9I_5",
        "outputId": "258944db-17ef-4d20-ceb7-38f8862bfa53"
      },
      "outputs": [
        {
          "output_type": "execute_result",
          "data": {
            "text/html": [
              "\n",
              "  <div id=\"df-25e1f617-47b8-4d4b-86e8-88fd4a6d16c1\">\n",
              "    <div class=\"colab-df-container\">\n",
              "      <div>\n",
              "<style scoped>\n",
              "    .dataframe tbody tr th:only-of-type {\n",
              "        vertical-align: middle;\n",
              "    }\n",
              "\n",
              "    .dataframe tbody tr th {\n",
              "        vertical-align: top;\n",
              "    }\n",
              "\n",
              "    .dataframe thead th {\n",
              "        text-align: right;\n",
              "    }\n",
              "</style>\n",
              "<table border=\"1\" class=\"dataframe\">\n",
              "  <thead>\n",
              "    <tr style=\"text-align: right;\">\n",
              "      <th></th>\n",
              "      <th>id</th>\n",
              "      <th>target</th>\n",
              "      <th>ps_ind_01</th>\n",
              "      <th>ps_ind_02_cat</th>\n",
              "      <th>ps_ind_03</th>\n",
              "      <th>ps_ind_04_cat</th>\n",
              "      <th>ps_ind_05_cat</th>\n",
              "      <th>ps_ind_06_bin</th>\n",
              "      <th>ps_ind_07_bin</th>\n",
              "      <th>ps_ind_08_bin</th>\n",
              "      <th>ps_ind_09_bin</th>\n",
              "      <th>ps_ind_10_bin</th>\n",
              "      <th>ps_ind_11_bin</th>\n",
              "      <th>ps_ind_12_bin</th>\n",
              "      <th>ps_ind_13_bin</th>\n",
              "      <th>ps_ind_14</th>\n",
              "      <th>ps_ind_15</th>\n",
              "      <th>ps_ind_16_bin</th>\n",
              "      <th>ps_ind_17_bin</th>\n",
              "      <th>ps_ind_18_bin</th>\n",
              "      <th>ps_reg_01</th>\n",
              "      <th>ps_reg_02</th>\n",
              "      <th>ps_reg_03</th>\n",
              "      <th>ps_car_01_cat</th>\n",
              "      <th>ps_car_02_cat</th>\n",
              "      <th>ps_car_03_cat</th>\n",
              "      <th>ps_car_04_cat</th>\n",
              "      <th>ps_car_05_cat</th>\n",
              "      <th>ps_car_06_cat</th>\n",
              "      <th>ps_car_07_cat</th>\n",
              "      <th>ps_car_08_cat</th>\n",
              "      <th>ps_car_09_cat</th>\n",
              "      <th>ps_car_10_cat</th>\n",
              "      <th>ps_car_11_cat</th>\n",
              "      <th>ps_car_11</th>\n",
              "      <th>ps_car_12</th>\n",
              "      <th>ps_car_13</th>\n",
              "      <th>ps_car_14</th>\n",
              "      <th>ps_car_15</th>\n",
              "      <th>ps_calc_01</th>\n",
              "      <th>ps_calc_02</th>\n",
              "      <th>ps_calc_03</th>\n",
              "      <th>ps_calc_04</th>\n",
              "      <th>ps_calc_05</th>\n",
              "      <th>ps_calc_06</th>\n",
              "      <th>ps_calc_07</th>\n",
              "      <th>ps_calc_08</th>\n",
              "      <th>ps_calc_09</th>\n",
              "      <th>ps_calc_10</th>\n",
              "      <th>ps_calc_11</th>\n",
              "      <th>ps_calc_12</th>\n",
              "      <th>ps_calc_13</th>\n",
              "      <th>ps_calc_14</th>\n",
              "      <th>ps_calc_15_bin</th>\n",
              "      <th>ps_calc_16_bin</th>\n",
              "      <th>ps_calc_17_bin</th>\n",
              "      <th>ps_calc_18_bin</th>\n",
              "      <th>ps_calc_19_bin</th>\n",
              "      <th>ps_calc_20_bin</th>\n",
              "    </tr>\n",
              "  </thead>\n",
              "  <tbody>\n",
              "    <tr>\n",
              "      <th>0</th>\n",
              "      <td>7</td>\n",
              "      <td>0</td>\n",
              "      <td>2</td>\n",
              "      <td>2</td>\n",
              "      <td>5</td>\n",
              "      <td>1</td>\n",
              "      <td>0</td>\n",
              "      <td>0</td>\n",
              "      <td>1</td>\n",
              "      <td>0</td>\n",
              "      <td>0</td>\n",
              "      <td>0</td>\n",
              "      <td>0</td>\n",
              "      <td>0</td>\n",
              "      <td>0</td>\n",
              "      <td>0</td>\n",
              "      <td>11</td>\n",
              "      <td>0</td>\n",
              "      <td>1</td>\n",
              "      <td>0</td>\n",
              "      <td>0.70</td>\n",
              "      <td>0.20</td>\n",
              "      <td>0.72</td>\n",
              "      <td>10</td>\n",
              "      <td>1</td>\n",
              "      <td>-1</td>\n",
              "      <td>0</td>\n",
              "      <td>1</td>\n",
              "      <td>4</td>\n",
              "      <td>1</td>\n",
              "      <td>0</td>\n",
              "      <td>0</td>\n",
              "      <td>1</td>\n",
              "      <td>12</td>\n",
              "      <td>2</td>\n",
              "      <td>0.40</td>\n",
              "      <td>0.88</td>\n",
              "      <td>0.37</td>\n",
              "      <td>3.61</td>\n",
              "      <td>0.60</td>\n",
              "      <td>0.50</td>\n",
              "      <td>0.20</td>\n",
              "      <td>3</td>\n",
              "      <td>1</td>\n",
              "      <td>10</td>\n",
              "      <td>1</td>\n",
              "      <td>10</td>\n",
              "      <td>1</td>\n",
              "      <td>5</td>\n",
              "      <td>9</td>\n",
              "      <td>1</td>\n",
              "      <td>5</td>\n",
              "      <td>8</td>\n",
              "      <td>0</td>\n",
              "      <td>1</td>\n",
              "      <td>1</td>\n",
              "      <td>0</td>\n",
              "      <td>0</td>\n",
              "      <td>1</td>\n",
              "    </tr>\n",
              "    <tr>\n",
              "      <th>1</th>\n",
              "      <td>9</td>\n",
              "      <td>0</td>\n",
              "      <td>1</td>\n",
              "      <td>1</td>\n",
              "      <td>7</td>\n",
              "      <td>0</td>\n",
              "      <td>0</td>\n",
              "      <td>0</td>\n",
              "      <td>0</td>\n",
              "      <td>1</td>\n",
              "      <td>0</td>\n",
              "      <td>0</td>\n",
              "      <td>0</td>\n",
              "      <td>0</td>\n",
              "      <td>0</td>\n",
              "      <td>0</td>\n",
              "      <td>3</td>\n",
              "      <td>0</td>\n",
              "      <td>0</td>\n",
              "      <td>1</td>\n",
              "      <td>0.80</td>\n",
              "      <td>0.40</td>\n",
              "      <td>0.77</td>\n",
              "      <td>11</td>\n",
              "      <td>1</td>\n",
              "      <td>-1</td>\n",
              "      <td>0</td>\n",
              "      <td>-1</td>\n",
              "      <td>11</td>\n",
              "      <td>1</td>\n",
              "      <td>1</td>\n",
              "      <td>2</td>\n",
              "      <td>1</td>\n",
              "      <td>19</td>\n",
              "      <td>3</td>\n",
              "      <td>0.32</td>\n",
              "      <td>0.62</td>\n",
              "      <td>0.39</td>\n",
              "      <td>2.45</td>\n",
              "      <td>0.30</td>\n",
              "      <td>0.10</td>\n",
              "      <td>0.30</td>\n",
              "      <td>2</td>\n",
              "      <td>1</td>\n",
              "      <td>9</td>\n",
              "      <td>5</td>\n",
              "      <td>8</td>\n",
              "      <td>1</td>\n",
              "      <td>7</td>\n",
              "      <td>3</td>\n",
              "      <td>1</td>\n",
              "      <td>1</td>\n",
              "      <td>9</td>\n",
              "      <td>0</td>\n",
              "      <td>1</td>\n",
              "      <td>1</td>\n",
              "      <td>0</td>\n",
              "      <td>1</td>\n",
              "      <td>0</td>\n",
              "    </tr>\n",
              "    <tr>\n",
              "      <th>2</th>\n",
              "      <td>13</td>\n",
              "      <td>0</td>\n",
              "      <td>5</td>\n",
              "      <td>4</td>\n",
              "      <td>9</td>\n",
              "      <td>1</td>\n",
              "      <td>0</td>\n",
              "      <td>0</td>\n",
              "      <td>0</td>\n",
              "      <td>1</td>\n",
              "      <td>0</td>\n",
              "      <td>0</td>\n",
              "      <td>0</td>\n",
              "      <td>0</td>\n",
              "      <td>0</td>\n",
              "      <td>0</td>\n",
              "      <td>12</td>\n",
              "      <td>1</td>\n",
              "      <td>0</td>\n",
              "      <td>0</td>\n",
              "      <td>0.00</td>\n",
              "      <td>0.00</td>\n",
              "      <td>-1.00</td>\n",
              "      <td>7</td>\n",
              "      <td>1</td>\n",
              "      <td>-1</td>\n",
              "      <td>0</td>\n",
              "      <td>-1</td>\n",
              "      <td>14</td>\n",
              "      <td>1</td>\n",
              "      <td>1</td>\n",
              "      <td>2</td>\n",
              "      <td>1</td>\n",
              "      <td>60</td>\n",
              "      <td>1</td>\n",
              "      <td>0.32</td>\n",
              "      <td>0.64</td>\n",
              "      <td>0.35</td>\n",
              "      <td>3.32</td>\n",
              "      <td>0.50</td>\n",
              "      <td>0.70</td>\n",
              "      <td>0.10</td>\n",
              "      <td>2</td>\n",
              "      <td>2</td>\n",
              "      <td>9</td>\n",
              "      <td>1</td>\n",
              "      <td>8</td>\n",
              "      <td>2</td>\n",
              "      <td>7</td>\n",
              "      <td>4</td>\n",
              "      <td>2</td>\n",
              "      <td>7</td>\n",
              "      <td>7</td>\n",
              "      <td>0</td>\n",
              "      <td>1</td>\n",
              "      <td>1</td>\n",
              "      <td>0</td>\n",
              "      <td>1</td>\n",
              "      <td>0</td>\n",
              "    </tr>\n",
              "    <tr>\n",
              "      <th>3</th>\n",
              "      <td>16</td>\n",
              "      <td>0</td>\n",
              "      <td>0</td>\n",
              "      <td>1</td>\n",
              "      <td>2</td>\n",
              "      <td>0</td>\n",
              "      <td>0</td>\n",
              "      <td>1</td>\n",
              "      <td>0</td>\n",
              "      <td>0</td>\n",
              "      <td>0</td>\n",
              "      <td>0</td>\n",
              "      <td>0</td>\n",
              "      <td>0</td>\n",
              "      <td>0</td>\n",
              "      <td>0</td>\n",
              "      <td>8</td>\n",
              "      <td>1</td>\n",
              "      <td>0</td>\n",
              "      <td>0</td>\n",
              "      <td>0.90</td>\n",
              "      <td>0.20</td>\n",
              "      <td>0.58</td>\n",
              "      <td>7</td>\n",
              "      <td>1</td>\n",
              "      <td>0</td>\n",
              "      <td>0</td>\n",
              "      <td>1</td>\n",
              "      <td>11</td>\n",
              "      <td>1</td>\n",
              "      <td>1</td>\n",
              "      <td>3</td>\n",
              "      <td>1</td>\n",
              "      <td>104</td>\n",
              "      <td>1</td>\n",
              "      <td>0.37</td>\n",
              "      <td>0.54</td>\n",
              "      <td>0.29</td>\n",
              "      <td>2.00</td>\n",
              "      <td>0.60</td>\n",
              "      <td>0.90</td>\n",
              "      <td>0.10</td>\n",
              "      <td>2</td>\n",
              "      <td>4</td>\n",
              "      <td>7</td>\n",
              "      <td>1</td>\n",
              "      <td>8</td>\n",
              "      <td>4</td>\n",
              "      <td>2</td>\n",
              "      <td>2</td>\n",
              "      <td>2</td>\n",
              "      <td>4</td>\n",
              "      <td>9</td>\n",
              "      <td>0</td>\n",
              "      <td>0</td>\n",
              "      <td>0</td>\n",
              "      <td>0</td>\n",
              "      <td>0</td>\n",
              "      <td>0</td>\n",
              "    </tr>\n",
              "    <tr>\n",
              "      <th>4</th>\n",
              "      <td>17</td>\n",
              "      <td>0</td>\n",
              "      <td>0</td>\n",
              "      <td>2</td>\n",
              "      <td>0</td>\n",
              "      <td>1</td>\n",
              "      <td>0</td>\n",
              "      <td>1</td>\n",
              "      <td>0</td>\n",
              "      <td>0</td>\n",
              "      <td>0</td>\n",
              "      <td>0</td>\n",
              "      <td>0</td>\n",
              "      <td>0</td>\n",
              "      <td>0</td>\n",
              "      <td>0</td>\n",
              "      <td>9</td>\n",
              "      <td>1</td>\n",
              "      <td>0</td>\n",
              "      <td>0</td>\n",
              "      <td>0.70</td>\n",
              "      <td>0.60</td>\n",
              "      <td>0.84</td>\n",
              "      <td>11</td>\n",
              "      <td>1</td>\n",
              "      <td>-1</td>\n",
              "      <td>0</td>\n",
              "      <td>-1</td>\n",
              "      <td>14</td>\n",
              "      <td>1</td>\n",
              "      <td>1</td>\n",
              "      <td>2</td>\n",
              "      <td>1</td>\n",
              "      <td>82</td>\n",
              "      <td>3</td>\n",
              "      <td>0.32</td>\n",
              "      <td>0.57</td>\n",
              "      <td>0.37</td>\n",
              "      <td>2.00</td>\n",
              "      <td>0.40</td>\n",
              "      <td>0.60</td>\n",
              "      <td>0.00</td>\n",
              "      <td>2</td>\n",
              "      <td>2</td>\n",
              "      <td>6</td>\n",
              "      <td>3</td>\n",
              "      <td>10</td>\n",
              "      <td>2</td>\n",
              "      <td>12</td>\n",
              "      <td>3</td>\n",
              "      <td>1</td>\n",
              "      <td>1</td>\n",
              "      <td>3</td>\n",
              "      <td>0</td>\n",
              "      <td>0</td>\n",
              "      <td>0</td>\n",
              "      <td>1</td>\n",
              "      <td>1</td>\n",
              "      <td>0</td>\n",
              "    </tr>\n",
              "  </tbody>\n",
              "</table>\n",
              "</div>\n",
              "      <button class=\"colab-df-convert\" onclick=\"convertToInteractive('df-25e1f617-47b8-4d4b-86e8-88fd4a6d16c1')\"\n",
              "              title=\"Convert this dataframe to an interactive table.\"\n",
              "              style=\"display:none;\">\n",
              "        \n",
              "  <svg xmlns=\"http://www.w3.org/2000/svg\" height=\"24px\"viewBox=\"0 0 24 24\"\n",
              "       width=\"24px\">\n",
              "    <path d=\"M0 0h24v24H0V0z\" fill=\"none\"/>\n",
              "    <path d=\"M18.56 5.44l.94 2.06.94-2.06 2.06-.94-2.06-.94-.94-2.06-.94 2.06-2.06.94zm-11 1L8.5 8.5l.94-2.06 2.06-.94-2.06-.94L8.5 2.5l-.94 2.06-2.06.94zm10 10l.94 2.06.94-2.06 2.06-.94-2.06-.94-.94-2.06-.94 2.06-2.06.94z\"/><path d=\"M17.41 7.96l-1.37-1.37c-.4-.4-.92-.59-1.43-.59-.52 0-1.04.2-1.43.59L10.3 9.45l-7.72 7.72c-.78.78-.78 2.05 0 2.83L4 21.41c.39.39.9.59 1.41.59.51 0 1.02-.2 1.41-.59l7.78-7.78 2.81-2.81c.8-.78.8-2.07 0-2.86zM5.41 20L4 18.59l7.72-7.72 1.47 1.35L5.41 20z\"/>\n",
              "  </svg>\n",
              "      </button>\n",
              "      \n",
              "  <style>\n",
              "    .colab-df-container {\n",
              "      display:flex;\n",
              "      flex-wrap:wrap;\n",
              "      gap: 12px;\n",
              "    }\n",
              "\n",
              "    .colab-df-convert {\n",
              "      background-color: #E8F0FE;\n",
              "      border: none;\n",
              "      border-radius: 50%;\n",
              "      cursor: pointer;\n",
              "      display: none;\n",
              "      fill: #1967D2;\n",
              "      height: 32px;\n",
              "      padding: 0 0 0 0;\n",
              "      width: 32px;\n",
              "    }\n",
              "\n",
              "    .colab-df-convert:hover {\n",
              "      background-color: #E2EBFA;\n",
              "      box-shadow: 0px 1px 2px rgba(60, 64, 67, 0.3), 0px 1px 3px 1px rgba(60, 64, 67, 0.15);\n",
              "      fill: #174EA6;\n",
              "    }\n",
              "\n",
              "    [theme=dark] .colab-df-convert {\n",
              "      background-color: #3B4455;\n",
              "      fill: #D2E3FC;\n",
              "    }\n",
              "\n",
              "    [theme=dark] .colab-df-convert:hover {\n",
              "      background-color: #434B5C;\n",
              "      box-shadow: 0px 1px 3px 1px rgba(0, 0, 0, 0.15);\n",
              "      filter: drop-shadow(0px 1px 2px rgba(0, 0, 0, 0.3));\n",
              "      fill: #FFFFFF;\n",
              "    }\n",
              "  </style>\n",
              "\n",
              "      <script>\n",
              "        const buttonEl =\n",
              "          document.querySelector('#df-25e1f617-47b8-4d4b-86e8-88fd4a6d16c1 button.colab-df-convert');\n",
              "        buttonEl.style.display =\n",
              "          google.colab.kernel.accessAllowed ? 'block' : 'none';\n",
              "\n",
              "        async function convertToInteractive(key) {\n",
              "          const element = document.querySelector('#df-25e1f617-47b8-4d4b-86e8-88fd4a6d16c1');\n",
              "          const dataTable =\n",
              "            await google.colab.kernel.invokeFunction('convertToInteractive',\n",
              "                                                     [key], {});\n",
              "          if (!dataTable) return;\n",
              "\n",
              "          const docLinkHtml = 'Like what you see? Visit the ' +\n",
              "            '<a target=\"_blank\" href=https://colab.research.google.com/notebooks/data_table.ipynb>data table notebook</a>'\n",
              "            + ' to learn more about interactive tables.';\n",
              "          element.innerHTML = '';\n",
              "          dataTable['output_type'] = 'display_data';\n",
              "          await google.colab.output.renderOutput(dataTable, element);\n",
              "          const docLink = document.createElement('div');\n",
              "          docLink.innerHTML = docLinkHtml;\n",
              "          element.appendChild(docLink);\n",
              "        }\n",
              "      </script>\n",
              "    </div>\n",
              "  </div>\n",
              "  "
            ],
            "text/plain": [
              "   id  target  ps_ind_01  ps_ind_02_cat  ps_ind_03  ps_ind_04_cat  \\\n",
              "0   7       0          2              2          5              1   \n",
              "1   9       0          1              1          7              0   \n",
              "2  13       0          5              4          9              1   \n",
              "3  16       0          0              1          2              0   \n",
              "4  17       0          0              2          0              1   \n",
              "\n",
              "   ps_ind_05_cat  ps_ind_06_bin  ps_ind_07_bin  ps_ind_08_bin  ps_ind_09_bin  \\\n",
              "0              0              0              1              0              0   \n",
              "1              0              0              0              1              0   \n",
              "2              0              0              0              1              0   \n",
              "3              0              1              0              0              0   \n",
              "4              0              1              0              0              0   \n",
              "\n",
              "   ps_ind_10_bin  ps_ind_11_bin  ps_ind_12_bin  ps_ind_13_bin  ps_ind_14  \\\n",
              "0              0              0              0              0          0   \n",
              "1              0              0              0              0          0   \n",
              "2              0              0              0              0          0   \n",
              "3              0              0              0              0          0   \n",
              "4              0              0              0              0          0   \n",
              "\n",
              "   ps_ind_15  ps_ind_16_bin  ps_ind_17_bin  ps_ind_18_bin  \\\n",
              "0         11              0              1              0   \n",
              "1          3              0              0              1   \n",
              "2         12              1              0              0   \n",
              "3          8              1              0              0   \n",
              "4          9              1              0              0   \n",
              "\n",
              "             ps_reg_01            ps_reg_02            ps_reg_03  \\\n",
              "0                 0.70                 0.20                 0.72   \n",
              "1                 0.80                 0.40                 0.77   \n",
              "2                 0.00                 0.00                -1.00   \n",
              "3                 0.90                 0.20                 0.58   \n",
              "4                 0.70                 0.60                 0.84   \n",
              "\n",
              "   ps_car_01_cat  ps_car_02_cat  ps_car_03_cat  ps_car_04_cat  ps_car_05_cat  \\\n",
              "0             10              1             -1              0              1   \n",
              "1             11              1             -1              0             -1   \n",
              "2              7              1             -1              0             -1   \n",
              "3              7              1              0              0              1   \n",
              "4             11              1             -1              0             -1   \n",
              "\n",
              "   ps_car_06_cat  ps_car_07_cat  ps_car_08_cat  ps_car_09_cat  ps_car_10_cat  \\\n",
              "0              4              1              0              0              1   \n",
              "1             11              1              1              2              1   \n",
              "2             14              1              1              2              1   \n",
              "3             11              1              1              3              1   \n",
              "4             14              1              1              2              1   \n",
              "\n",
              "   ps_car_11_cat  ps_car_11            ps_car_12            ps_car_13  \\\n",
              "0             12          2                 0.40                 0.88   \n",
              "1             19          3                 0.32                 0.62   \n",
              "2             60          1                 0.32                 0.64   \n",
              "3            104          1                 0.37                 0.54   \n",
              "4             82          3                 0.32                 0.57   \n",
              "\n",
              "             ps_car_14            ps_car_15           ps_calc_01  \\\n",
              "0                 0.37                 3.61                 0.60   \n",
              "1                 0.39                 2.45                 0.30   \n",
              "2                 0.35                 3.32                 0.50   \n",
              "3                 0.29                 2.00                 0.60   \n",
              "4                 0.37                 2.00                 0.40   \n",
              "\n",
              "            ps_calc_02           ps_calc_03  ps_calc_04  ps_calc_05  \\\n",
              "0                 0.50                 0.20           3           1   \n",
              "1                 0.10                 0.30           2           1   \n",
              "2                 0.70                 0.10           2           2   \n",
              "3                 0.90                 0.10           2           4   \n",
              "4                 0.60                 0.00           2           2   \n",
              "\n",
              "   ps_calc_06  ps_calc_07  ps_calc_08  ps_calc_09  ps_calc_10  ps_calc_11  \\\n",
              "0          10           1          10           1           5           9   \n",
              "1           9           5           8           1           7           3   \n",
              "2           9           1           8           2           7           4   \n",
              "3           7           1           8           4           2           2   \n",
              "4           6           3          10           2          12           3   \n",
              "\n",
              "   ps_calc_12  ps_calc_13  ps_calc_14  ps_calc_15_bin  ps_calc_16_bin  \\\n",
              "0           1           5           8               0               1   \n",
              "1           1           1           9               0               1   \n",
              "2           2           7           7               0               1   \n",
              "3           2           4           9               0               0   \n",
              "4           1           1           3               0               0   \n",
              "\n",
              "   ps_calc_17_bin  ps_calc_18_bin  ps_calc_19_bin  ps_calc_20_bin  \n",
              "0               1               0               0               1  \n",
              "1               1               0               1               0  \n",
              "2               1               0               1               0  \n",
              "3               0               0               0               0  \n",
              "4               0               1               1               0  "
            ]
          },
          "metadata": {},
          "execution_count": 5
        }
      ],
      "source": [
        "df = pd.read_csv('/content/train(1).csv')\n",
        "df1= df.copy()\n",
        "df.head()"
      ]
    },
    {
      "cell_type": "code",
      "execution_count": 6,
      "metadata": {
        "id": "h-hqCTKn_Dl7"
      },
      "outputs": [],
      "source": [
        "temp = df[:200000]\n",
        "_X = temp.drop(['id','target'],axis =1)\n",
        "_y=temp.target\n",
        "metadata_matrix_dataframe = get_meta_data(df)\n",
        "metadata_matrix_dataframe[\"dt_name\"] =[ i.split(\"_\")[-1] for i in metadata_matrix_dataframe.index.values]\n",
        "metadata_matrix_dataframe['dt_name'] = metadata_matrix_dataframe['dt_name'].apply(lambda x : \"interval\" if str(x).isnumeric() else x)"
      ]
    },
    {
      "cell_type": "code",
      "execution_count": 7,
      "metadata": {
        "id": "NCC-1yqv_JoK"
      },
      "outputs": [],
      "source": [
        "Dtype = metadata_matrix_dataframe.groupby(['dt_name'])\n",
        "\n",
        "interval_feature =Dtype.get_group(\"interval\").index.tolist()\n",
        "bin_feature = Dtype.get_group(\"bin\").index.tolist()\n",
        "cat_feature = Dtype.get_group(\"cat\").index.tolist()"
      ]
    },
    {
      "cell_type": "code",
      "execution_count": 8,
      "metadata": {
        "id": "VIXdvpKI_Osw"
      },
      "outputs": [],
      "source": [
        "Dtype = metadata_matrix_dataframe.groupby(['dt_name'])\n",
        "\n",
        "interval_feature =Dtype.get_group(\"interval\").index.tolist()\n",
        "bin_feature = Dtype.get_group(\"bin\").index.tolist()\n",
        "cat_feature = Dtype.get_group(\"cat\").index.tolist()"
      ]
    },
    {
      "cell_type": "code",
      "execution_count": 9,
      "metadata": {
        "colab": {
          "base_uri": "https://localhost:8080/",
          "height": 357
        },
        "id": "JGEHN0Dq_dWc",
        "outputId": "519ad28a-8879-406c-88eb-bdc89a6e1ef8"
      },
      "outputs": [
        {
          "output_type": "stream",
          "name": "stdout",
          "text": [
            "Percentge distribution of class '1' & class '0':\n",
            "\n",
            " 0                  96.36\n",
            "1                   3.64\n",
            "Name: target, dtype: float64\n"
          ]
        },
        {
          "output_type": "display_data",
          "data": {
            "image/png": "[encoded data removed]",
            "text/plain": [
              "<Figure size 432x288 with 1 Axes>"
            ]
          },
          "metadata": {
            "needs_background": "light"
          }
        }
      ],
      "source": [
        "perc = (df['target'].value_counts()/(df.shape[0]))*100\n",
        "print(\"Percentge distribution of class '1' & class '0':\\n\\n\",perc)\n",
        "perc.plot.bar();"
      ]
    },
    {
      "cell_type": "code",
      "execution_count": 10,
      "metadata": {
        "colab": {
          "base_uri": "https://localhost:8080/"
        },
        "id": "6u3Jalam_hgh",
        "outputId": "7534995b-9fda-4d77-9075-10a5c3155560"
      },
      "outputs": [
        {
          "output_type": "stream",
          "name": "stdout",
          "text": [
            "categorical features count: 50\n"
          ]
        }
      ],
      "source": [
        "group_variable_type = metadata_matrix_dataframe.groupby('Variable_Type')\n",
        "print(\"categorical features count:\",group_variable_type.get_group('Categorical').shape[0])"
      ]
    },
    {
      "cell_type": "code",
      "execution_count": 11,
      "metadata": {
        "colab": {
          "base_uri": "https://localhost:8080/",
          "height": 648
        },
        "id": "ExdqOpWw_l7b",
        "outputId": "faa0d439-04f6-470a-984f-af61326844d3"
      },
      "outputs": [
        {
          "output_type": "display_data",
          "data": {
            "image/png": "[encoded data removed]",
            "text/plain": [
              "<Figure size 864x720 with 2 Axes>"
            ]
          },
          "metadata": {
            "needs_background": "light"
          }
        }
      ],
      "source": [
        "temp = df[interval_feature].corr()\n",
        "temp = temp[(temp>=0.5) | (temp<=-0.5)].fillna(0)\n",
        "fig, ax = plt.subplots(figsize=(12,10))\n",
        "sns.heatmap(temp,linewidths=.5, cmap=\"YlGnBu\",ax=ax)\n",
        "plt.show()"
      ]
    },
    {
      "cell_type": "code",
      "execution_count": 12,
      "metadata": {
        "colab": {
          "base_uri": "https://localhost:8080/",
          "height": 485
        },
        "id": "3yzKXYUY_o4O",
        "outputId": "b0eacc79-3f03-4646-b8c3-ef148ec5da75"
      },
      "outputs": [
        {
          "output_type": "display_data",
          "data": {
            "image/png": "[encoded data removed]",
            "text/plain": [
              "<Figure size 1152x576 with 1 Axes>"
            ]
          },
          "metadata": {
            "needs_background": "light"
          }
        }
      ],
      "source": [
        "d ={}\n",
        "for i in df[cat_feature].columns:\n",
        "    d[i] = df[cat_feature][i].nunique()\n",
        "\n",
        "pd.DataFrame(d,index=['unique values']).T.plot.bar(figsize=(16,8));"
      ]
    },
    {
      "cell_type": "code",
      "execution_count": 13,
      "metadata": {
        "colab": {
          "base_uri": "https://localhost:8080/",
          "height": 555
        },
        "id": "W99DVYWr_uwQ",
        "outputId": "8fa0d129-2c11-4ba8-de83-f86f470ba71e"
      },
      "outputs": [
        {
          "output_type": "display_data",
          "data": {
            "text/markdown": "> <span style='color:blue'>Analysis : Looking at above graph % of 1's is near near for *ps_ind_10_bin, ps_ind_11_bin, ps_ind_12_bin, ps_ind_13_bin.</span>",
            "text/plain": [
              "<IPython.core.display.Markdown object>"
            ]
          },
          "metadata": {}
        },
        {
          "output_type": "display_data",
          "data": {
            "image/png": "[encoded data removed]",
            "text/plain": [
              "<Figure size 1152x576 with 1 Axes>"
            ]
          },
          "metadata": {
            "needs_background": "light"
          }
        }
      ],
      "source": [
        "col = metadata_matrix_dataframe[metadata_matrix_dataframe['Unique_Values_Count'] == 2].index\n",
        "df_1 = pd.DataFrame((df[col].sum()/df[col].shape[0])*100, columns=['Percentage of 1'])\n",
        "df_1.plot.bar(figsize=(16,8));\n",
        "log(\"Analysis : Looking at above graph % of 1's is near near for *ps_ind_10_bin, ps_ind_11_bin, ps_ind_12_bin, ps_ind_13_bin.\");"
      ]
    },
    {
      "cell_type": "code",
      "execution_count": 14,
      "metadata": {
        "colab": {
          "base_uri": "https://localhost:8080/",
          "height": 361
        },
        "id": "c4T29B7T_ydB",
        "outputId": "21cabad0-f08a-4895-98c4-411e3c50b764"
      },
      "outputs": [
        {
          "output_type": "stream",
          "name": "stdout",
          "text": [
            "Target=1 shape: (21694, 59) 3.64 % \n",
            "Target=0 shape: (573518, 59) 96.36 %\n",
            "\n",
            " # This Data shows that it's imbalanced\n"
          ]
        },
        {
          "output_type": "display_data",
          "data": {
            "image/png": "[encoded data removed]",
            "text/plain": [
              "<Figure size 432x288 with 1 Axes>"
            ]
          },
          "metadata": {
            "needs_background": "light"
          }
        }
      ],
      "source": [
        "Per1= np.round((df[df['target']==1].shape[0]*100)/ df.shape[0],2)\n",
        "Per0= np.round((df[df['target']==0].shape[0]*100)/ df.shape[0],2)\n",
        "\n",
        "print('Target=1 shape:',df[df['target']==1].shape, Per1,'%','\\nTarget=0 shape:',df[df['target']==0].shape,Per0,'%')\n",
        "print(\"\\n # This Data shows that it's imbalanced\")\n",
        "sns.countplot(x= df['target'])\n",
        "plt.show()"
      ]
    },
    {
      "cell_type": "code",
      "execution_count": 15,
      "metadata": {
        "colab": {
          "base_uri": "https://localhost:8080/"
        },
        "id": "5wk2-Elf_2tQ",
        "outputId": "b50c1bad-90bb-4367-e4c4-42d7cd092534"
      },
      "outputs": [
        {
          "output_type": "stream",
          "name": "stdout",
          "text": [
            "Size of data, after achieving a balance of 12%:  642340\n"
          ]
        }
      ],
      "source": [
        "df_mino= df[df['target']==1]\n",
        "df_majo= df[df['target']==0]\n",
        "df_mino_upsampled = resample(df_mino,replace=True,n_samples=int(len(df_majo)*0.12), random_state = 42)\n",
        "\n",
        "print(\"Size of data, after achieving a balance of 12%: \", df_mino_upsampled.shape[0] + df_majo.shape[0])"
      ]
    },
    {
      "cell_type": "code",
      "execution_count": 16,
      "metadata": {
        "colab": {
          "base_uri": "https://localhost:8080/",
          "height": 341
        },
        "id": "ETGUL3s3_65D",
        "outputId": "0480c89a-25a3-4ce0-c6df-de99b71ece16"
      },
      "outputs": [
        {
          "output_type": "stream",
          "name": "stdout",
          "text": [
            "Class compostion after resampling:\n",
            "1    573518\n",
            "0    573518\n",
            "Name: target, dtype: int64\n"
          ]
        },
        {
          "output_type": "display_data",
          "data": {
            "image/png": "[encoded data removed]",
            "text/plain": [
              "<Figure size 432x288 with 1 Axes>"
            ]
          },
          "metadata": {
            "needs_background": "light"
          }
        }
      ],
      "source": [
        "df_mino_upsampled = resample(df_mino,replace=True,n_samples=len(df_majo), random_state = 42)\n",
        "df = pd.concat([df_majo,df_mino_upsampled])\n",
        "print(\"Class compostion after resampling:\")\n",
        "print(df['target'].value_counts())\n",
        "df['target'].value_counts().plot.bar();"
      ]
    },
    {
      "cell_type": "code",
      "execution_count": 17,
      "metadata": {
        "colab": {
          "base_uri": "https://localhost:8080/",
          "height": 648
        },
        "id": "txQ8_NEE_-1w",
        "outputId": "04c6650f-3bca-41f7-a0c5-66d6a2967833"
      },
      "outputs": [
        {
          "output_type": "display_data",
          "data": {
            "image/png": "[encoded data removed]",
            "text/plain": [
              "<Figure size 864x720 with 2 Axes>"
            ]
          },
          "metadata": {
            "needs_background": "light"
          }
        }
      ],
      "source": [
        "temp = df[interval_feature].corr()\n",
        "temp = temp[(temp>=0.5) | (temp<=-0.5)].fillna(0)\n",
        "fig, ax = plt.subplots(figsize=(12,10))\n",
        "sns.heatmap(temp,linewidths=.5, cmap=\"YlGnBu\",ax=ax)\n",
        "plt.show()"
      ]
    },
    {
      "cell_type": "code",
      "execution_count": 18,
      "metadata": {
        "colab": {
          "base_uri": "https://localhost:8080/",
          "height": 666
        },
        "id": "5U5_tbtgABo3",
        "outputId": "54bc8af7-5a32-4dbb-b379-c18e20260744"
      },
      "outputs": [
        {
          "output_type": "display_data",
          "data": {
            "image/png": "[encoded data removed]",
            "text/plain": [
              "<Figure size 720x720 with 2 Axes>"
            ]
          },
          "metadata": {
            "needs_background": "light"
          }
        }
      ],
      "source": [
        "temp = df[cat_feature].corr()\n",
        "temp = temp[(temp>=0.3) | (temp<=-0.3)].fillna(0)\n",
        "fig, ax = plt.subplots(figsize=(10,10))\n",
        "sns.heatmap(temp,linewidths=.3, cmap=\"YlGnBu\",ax=ax)\n",
        "plt.show()"
      ]
    },
    {
      "cell_type": "code",
      "execution_count": 19,
      "metadata": {
        "id": "SOgIhixiAFGV"
      },
      "outputs": [],
      "source": [
        "clf=RandomForestClassifier(n_estimators=100)\n",
        "clf.fit(_X,_y)\n",
        "\n",
        "feature_imp = pd.Series(clf.feature_importances_,index=_X.columns).sort_values(ascending=False)\n",
        "imp = pd.DataFrame(feature_imp).reset_index()\n",
        "imp.columns = [\"Features\", 'Imp']\n",
        "\n",
        "imp['Imp'] = (imp['Imp']/max(imp['Imp']))*100\n",
        "col = imp[imp[\"Imp\"]>25]['Features'].tolist()"
      ]
    },
    {
      "cell_type": "code",
      "execution_count": 20,
      "metadata": {
        "colab": {
          "base_uri": "https://localhost:8080/",
          "height": 320
        },
        "id": "sanA6R4xF48p",
        "outputId": "f44c4325-72d6-4eea-8079-6610067d834f"
      },
      "outputs": [
        {
          "output_type": "display_data",
          "data": {
            "image/png": "[encoded data removed]",
            "text/plain": [
              "<Figure size 1440x504 with 1 Axes>"
            ]
          },
          "metadata": {
            "needs_background": "light"
          }
        }
      ],
      "source": [
        "plt.figure(figsize = (20,7))\n",
        "sns.barplot(x=_X.columns, y=imp.Imp)\n",
        "plt.xlabel('Feature Importance Score')\n",
        "plt.ylabel('Features')\n",
        "plt.title(\"Visualizing Important Features\")\n",
        "plt.show()"
      ]
    },
    {
      "cell_type": "code",
      "execution_count": 21,
      "metadata": {
        "colab": {
          "base_uri": "https://localhost:8080/"
        },
        "id": "_M6ln4gKF98P",
        "outputId": "326fa2e8-1190-4cf2-dd83-bd2fd7d02085"
      },
      "outputs": [
        {
          "output_type": "stream",
          "name": "stdout",
          "text": [
            "Top 10 ordered important features\n",
            "0        ps_car_13\n",
            "1        ps_reg_03\n",
            "2        ps_car_14\n",
            "3       ps_calc_14\n",
            "4       ps_calc_10\n",
            "5       ps_calc_11\n",
            "6    ps_car_11_cat\n",
            "7        ps_ind_15\n",
            "8        ps_ind_03\n",
            "9       ps_calc_01\n",
            "Name: Features, dtype: object\n"
          ]
        }
      ],
      "source": [
        "print(\"Top 10 ordered important features\")\n",
        "print(imp[:10].Features);"
      ]
    },
    {
      "cell_type": "code",
      "execution_count": 22,
      "metadata": {
        "id": "HDdsnvK4SK3D"
      },
      "outputs": [],
      "source": [
        "x= df.drop(['target','id'], axis=1)\n",
        "y= df['target']"
      ]
    },
    {
      "cell_type": "code",
      "execution_count": 23,
      "metadata": {
        "id": "lF3OrhkWSOnk"
      },
      "outputs": [],
      "source": [
        "#Spliting data in train test\n",
        "from sklearn.model_selection import train_test_split as tts\n",
        "X_train,X_test,y_train,y_test = tts(x, y, test_size = 0.3,random_state = 1)\n",
        "\n"
      ]
    },
    {
      "cell_type": "code",
      "execution_count": 24,
      "metadata": {
        "id": "xMXfn4hGSRCE"
      },
      "outputs": [],
      "source": [
        "#Feature Scaling\n",
        "from sklearn.preprocessing import StandardScaler\n",
        "scaler = StandardScaler()\n",
        "# Fit only to the training data\n",
        "scaler.fit(X_train)\n",
        "# Now apply the transformations to the data:\n",
        "X_train = scaler.transform(X_train)\n",
        "X_test = scaler.transform(X_test)"
      ]
    },
    {
      "cell_type": "code",
      "execution_count": 25,
      "metadata": {
        "colab": {
          "base_uri": "https://localhost:8080/"
        },
        "id": "gbADGtLMST6c",
        "outputId": "54a467f5-187e-494e-b8ec-c661a6095579"
      },
      "outputs": [
        {
          "output_type": "stream",
          "name": "stdout",
          "text": [
            "\n",
            " CONFUSION MATRIX:\n",
            "  [[172094      0]\n",
            " [  6470      0]] \n",
            "\n",
            "FPR:  0.0\n",
            "TPR/ RECALL/ SENSTIVITY:  0.0\n",
            "PRECISION: 0.0\n",
            "SPECIFICITY:  1.0\n",
            "ACCURACY:  0.964\n",
            "ROC AUC:  0.5\n",
            "Cohens kappa:  0.0\n",
            "F1 score:  0.0\n",
            "\n",
            " CLASSIFICATION REPORT: \n",
            "               precision    recall  f1-score   support\n",
            "\n",
            "           0       0.96      1.00      0.98    172094\n",
            "           1       0.00      0.00      0.00      6470\n",
            "\n",
            "    accuracy                           0.96    178564\n",
            "   macro avg       0.48      0.50      0.49    178564\n",
            "weighted avg       0.93      0.96      0.95    178564\n",
            "\n"
          ]
        }
      ],
      "source": [
        "#Logistic regression\n",
        "x_= df1.drop(['target','id'], axis=1)\n",
        "y_= df1['target']\n",
        "\n",
        "from sklearn.model_selection import train_test_split as tts\n",
        "X_Train,X_Test,y_Train,y_Test = tts(x_, y_, test_size = 0.3,random_state = 1)\n",
        "\n",
        "log_reg = LogisticRegression()\n",
        "log_reg.fit(X_Train, y_Train)\n",
        "\n",
        "# y_pred_train = log_reg.predict(X_Train)\n",
        "y_pred_logreg1 = log_reg.predict(X_Test)\n",
        "\n",
        "accuracy_result(y_Test, y_pred_logreg1)"
      ]
    },
    {
      "cell_type": "code",
      "execution_count": 26,
      "metadata": {
        "colab": {
          "base_uri": "https://localhost:8080/"
        },
        "id": "tZMp0WXYSXrF",
        "outputId": "250dae5c-4dfd-45ec-e570-51ef92dbd272"
      },
      "outputs": [
        {
          "output_type": "execute_result",
          "data": {
            "text/plain": [
              "LogisticRegression()"
            ]
          },
          "metadata": {},
          "execution_count": 26
        }
      ],
      "source": [
        "#Fitting a logistic regresion\n",
        "log_reg = LogisticRegression()\n",
        "log_reg.fit(X_train, y_train)"
      ]
    },
    {
      "cell_type": "code",
      "execution_count": 27,
      "metadata": {
        "colab": {
          "base_uri": "https://localhost:8080/"
        },
        "id": "ubChgoXjSbOK",
        "outputId": "01273c06-522d-4b19-fc30-41bbe25c8c80"
      },
      "outputs": [
        {
          "output_type": "stream",
          "name": "stdout",
          "text": [
            "\n",
            " CONFUSION MATRIX:\n",
            "  [[107904  64389]\n",
            " [ 76992  94826]] \n",
            "\n",
            "FPR:  0.374\n",
            "TPR/ RECALL/ SENSTIVITY:  0.552\n",
            "PRECISION: 0.596\n",
            "SPECIFICITY:  0.626\n",
            "ACCURACY:  0.589\n",
            "ROC AUC:  0.589\n",
            "Cohens kappa:  0.178\n",
            "F1 score:  0.573\n",
            "\n",
            " CLASSIFICATION REPORT: \n",
            "               precision    recall  f1-score   support\n",
            "\n",
            "           0       0.58      0.63      0.60    172293\n",
            "           1       0.60      0.55      0.57    171818\n",
            "\n",
            "    accuracy                           0.59    344111\n",
            "   macro avg       0.59      0.59      0.59    344111\n",
            "weighted avg       0.59      0.59      0.59    344111\n",
            "\n"
          ]
        }
      ],
      "source": [
        "### 1. Fitting a Logistic Regression\n",
        "log_reg = LogisticRegression()\n",
        "log_reg.fit(X_train, y_train)\n",
        "\n",
        "## 2. Predicting on Train and test data\n",
        "\n",
        "y_pred_train = log_reg.predict(X_train)\n",
        "y_pred_logreg2 = log_reg.predict(X_test)\n",
        "\n",
        "## 3. Using function for evaluating the model output\n",
        "\n",
        "accuracy_result(y_test, y_pred_logreg2)"
      ]
    },
    {
      "cell_type": "code",
      "execution_count": 28,
      "metadata": {
        "colab": {
          "base_uri": "https://localhost:8080/"
        },
        "id": "6BePyLX7SfYh",
        "outputId": "1cd44025-ed82-4168-adcd-1d2bbcd17503"
      },
      "outputs": [
        {
          "output_type": "stream",
          "name": "stdout",
          "text": [
            "\n",
            " CONFUSION MATRIX:\n",
            "  [[111418  60875]\n",
            " [ 81572  90246]] \n",
            "\n",
            "FPR:  0.353\n",
            "TPR/ RECALL/ SENSTIVITY:  0.525\n",
            "PRECISION: 0.597\n",
            "SPECIFICITY:  0.647\n",
            "ACCURACY:  0.586\n",
            "ROC AUC:  0.586\n",
            "Cohens kappa:  0.172\n",
            "F1 score:  0.559\n",
            "\n",
            " CLASSIFICATION REPORT: \n",
            "               precision    recall  f1-score   support\n",
            "\n",
            "           0       0.58      0.65      0.61    172293\n",
            "           1       0.60      0.53      0.56    171818\n",
            "\n",
            "    accuracy                           0.59    344111\n",
            "   macro avg       0.59      0.59      0.58    344111\n",
            "weighted avg       0.59      0.59      0.58    344111\n",
            "\n"
          ]
        }
      ],
      "source": [
        "#Support vector machanisam\n",
        "x_tr=X_train[:10000,:]\n",
        "y_tr=y_train[:10000]\n",
        "\n",
        "## 1. svm Classifier with linear kernel\n",
        "\n",
        "#Create a svm Classifier\n",
        "clf = svm.SVC(kernel='linear')\n",
        "# FIT SVC ON TRAINING DATA\n",
        "clf.fit(x_tr, y_tr)\n",
        "\n",
        "## 2. Predicting on Train and test data\n",
        "\n",
        "# y_pred_train = clf.predict(X_train)\n",
        "y_pred_svc = clf.predict(X_test)\n",
        "#  model output\n",
        "accuracy_result(y_test, y_pred_svc)"
      ]
    },
    {
      "cell_type": "code",
      "execution_count": 29,
      "metadata": {
        "colab": {
          "base_uri": "https://localhost:8080/"
        },
        "id": "e8xagN-sSjko",
        "outputId": "88384571-3a29-4bdf-8561-2341aec49813"
      },
      "outputs": [
        {
          "output_type": "stream",
          "name": "stdout",
          "text": [
            "\n",
            " CONFUSION MATRIX:\n",
            "  [[172287      6]\n",
            " [     0 171818]] \n",
            "\n",
            "FPR:  0.0\n",
            "TPR/ RECALL/ SENSTIVITY:  1.0\n",
            "PRECISION: 1.0\n",
            "SPECIFICITY:  1.0\n",
            "ACCURACY:  1.0\n",
            "ROC AUC:  1.0\n",
            "Cohens kappa:  1.0\n",
            "F1 score:  1.0\n",
            "\n",
            " CLASSIFICATION REPORT: \n",
            "               precision    recall  f1-score   support\n",
            "\n",
            "           0       1.00      1.00      1.00    172293\n",
            "           1       1.00      1.00      1.00    171818\n",
            "\n",
            "    accuracy                           1.00    344111\n",
            "   macro avg       1.00      1.00      1.00    344111\n",
            "weighted avg       1.00      1.00      1.00    344111\n",
            "\n"
          ]
        }
      ],
      "source": [
        "#XG Booster Classifier\n",
        "# 1. Initializing XGboost Classifier\n",
        "\n",
        "xg_cls = XGBClassifier(objective='binary:logistic', colsample_bytree = 0.3, learning_rate = 0.1,\n",
        "                max_depth = 50, alpha = 10, n_estimators = 100)\n",
        "xg_cls.fit(X_train, y_train)\n",
        "\n",
        "## 2. Predicting on Train and test data\n",
        "\n",
        "# y_pred_train = xg_cls.predict(X_train)\n",
        "y_pred_xgb = xg_cls.predict(X_test)\n",
        "\n",
        "# function for evaluating the model output\n",
        "accuracy_result(y_test, y_pred_xgb)"
      ]
    },
    {
      "cell_type": "code",
      "execution_count": 30,
      "metadata": {
        "colab": {
          "base_uri": "https://localhost:8080/"
        },
        "id": "h3jwsHWtuFU9",
        "outputId": "783febac-1ae1-4463-ddd9-aeca33a1f67d"
      },
      "outputs": [
        {
          "output_type": "stream",
          "name": "stdout",
          "text": [
            "\n",
            " CONFUSION MATRIX:\n",
            "  [[106696  65597]\n",
            " [ 72722  99096]] \n",
            "\n",
            "FPR:  0.381\n",
            "TPR/ RECALL/ SENSTIVITY:  0.577\n",
            "PRECISION: 0.602\n",
            "SPECIFICITY:  0.619\n",
            "ACCURACY:  0.598\n",
            "ROC AUC:  0.598\n",
            "Cohens kappa:  0.196\n",
            "F1 score:  0.589\n",
            "\n",
            " CLASSIFICATION REPORT: \n",
            "               precision    recall  f1-score   support\n",
            "\n",
            "           0       0.59      0.62      0.61    172293\n",
            "           1       0.60      0.58      0.59    171818\n",
            "\n",
            "    accuracy                           0.60    344111\n",
            "   macro avg       0.60      0.60      0.60    344111\n",
            "weighted avg       0.60      0.60      0.60    344111\n",
            "\n"
          ]
        }
      ],
      "source": [
        "ada_cls = AdaBoostClassifier(n_estimators=100, random_state=0)\n",
        "\n",
        "ada_cls.fit(X_train, y_train)\n",
        "\n",
        "y_pred_ada = ada_cls.predict(X_test)\n",
        "\n",
        "accuracy_result(y_test, y_pred_ada)"
      ]
    },
    {
      "cell_type": "code",
      "execution_count": 31,
      "metadata": {
        "colab": {
          "base_uri": "https://localhost:8080/"
        },
        "id": "lYkH47klSl4h",
        "outputId": "1653f9e2-f17d-4cbe-8b4d-5b02de50a1fc"
      },
      "outputs": [
        {
          "output_type": "stream",
          "name": "stdout",
          "text": [
            "\n",
            " CONFUSION MATRIX:\n",
            "  [[ 97855  74438]\n",
            " [ 62099 109719]] \n",
            "\n",
            "FPR:  0.432\n",
            "TPR/ RECALL/ SENSTIVITY:  0.639\n",
            "PRECISION: 0.596\n",
            "SPECIFICITY:  0.568\n",
            "ACCURACY:  0.603\n",
            "ROC AUC:  0.603\n",
            "Cohens kappa:  0.207\n",
            "F1 score:  0.616\n",
            "\n",
            " CLASSIFICATION REPORT: \n",
            "               precision    recall  f1-score   support\n",
            "\n",
            "           0       0.61      0.57      0.59    172293\n",
            "           1       0.60      0.64      0.62    171818\n",
            "\n",
            "    accuracy                           0.60    344111\n",
            "   macro avg       0.60      0.60      0.60    344111\n",
            "weighted avg       0.60      0.60      0.60    344111\n",
            "\n"
          ]
        }
      ],
      "source": [
        "#MLP Classifier\n",
        "# Training the model\n",
        "mlp = MLPClassifier(hidden_layer_sizes=(10, 10, 10),activation='logistic', max_iter=200)\n",
        "mlp.fit(X_train, y_train.values.ravel())\n",
        "\n",
        "# Prediction on x_test\n",
        "y_predic = mlp.predict(X_test)\n",
        "accuracy_result(y_test,y_predic)"
      ]
    },
    {
      "cell_type": "code",
      "execution_count": 32,
      "metadata": {
        "colab": {
          "base_uri": "https://localhost:8080/",
          "height": 237
        },
        "id": "z7Z3P4FuSp4r",
        "outputId": "bae09741-75da-43ff-9531-b926adab6cdd"
      },
      "outputs": [
        {
          "output_type": "execute_result",
          "data": {
            "text/html": [
              "\n",
              "  <div id=\"df-96e400c9-a810-4b7f-9c34-57f683825204\">\n",
              "    <div class=\"colab-df-container\">\n",
              "      <div>\n",
              "<style scoped>\n",
              "    .dataframe tbody tr th:only-of-type {\n",
              "        vertical-align: middle;\n",
              "    }\n",
              "\n",
              "    .dataframe tbody tr th {\n",
              "        vertical-align: top;\n",
              "    }\n",
              "\n",
              "    .dataframe thead th {\n",
              "        text-align: right;\n",
              "    }\n",
              "</style>\n",
              "<table border=\"1\" class=\"dataframe\">\n",
              "  <thead>\n",
              "    <tr style=\"text-align: right;\">\n",
              "      <th></th>\n",
              "      <th>F1_score</th>\n",
              "      <th>Accuracy</th>\n",
              "    </tr>\n",
              "  </thead>\n",
              "  <tbody>\n",
              "    <tr>\n",
              "      <th>Log_Reg(Before Resamp)</th>\n",
              "      <td>0.00</td>\n",
              "      <td>0.96</td>\n",
              "    </tr>\n",
              "    <tr>\n",
              "      <th>Log_Reg(After Resamp)</th>\n",
              "      <td>0.57</td>\n",
              "      <td>0.59</td>\n",
              "    </tr>\n",
              "    <tr>\n",
              "      <th>SVC</th>\n",
              "      <td>0.56</td>\n",
              "      <td>0.59</td>\n",
              "    </tr>\n",
              "    <tr>\n",
              "      <th>XGBoost</th>\n",
              "      <td>1.00</td>\n",
              "      <td>1.00</td>\n",
              "    </tr>\n",
              "    <tr>\n",
              "      <th>AdaBoost</th>\n",
              "      <td>0.59</td>\n",
              "      <td>0.60</td>\n",
              "    </tr>\n",
              "    <tr>\n",
              "      <th>MLP Classifier</th>\n",
              "      <td>0.62</td>\n",
              "      <td>0.60</td>\n",
              "    </tr>\n",
              "  </tbody>\n",
              "</table>\n",
              "</div>\n",
              "      <button class=\"colab-df-convert\" onclick=\"convertToInteractive('df-96e400c9-a810-4b7f-9c34-57f683825204')\"\n",
              "              title=\"Convert this dataframe to an interactive table.\"\n",
              "              style=\"display:none;\">\n",
              "        \n",
              "  <svg xmlns=\"http://www.w3.org/2000/svg\" height=\"24px\"viewBox=\"0 0 24 24\"\n",
              "       width=\"24px\">\n",
              "    <path d=\"M0 0h24v24H0V0z\" fill=\"none\"/>\n",
              "    <path d=\"M18.56 5.44l.94 2.06.94-2.06 2.06-.94-2.06-.94-.94-2.06-.94 2.06-2.06.94zm-11 1L8.5 8.5l.94-2.06 2.06-.94-2.06-.94L8.5 2.5l-.94 2.06-2.06.94zm10 10l.94 2.06.94-2.06 2.06-.94-2.06-.94-.94-2.06-.94 2.06-2.06.94z\"/><path d=\"M17.41 7.96l-1.37-1.37c-.4-.4-.92-.59-1.43-.59-.52 0-1.04.2-1.43.59L10.3 9.45l-7.72 7.72c-.78.78-.78 2.05 0 2.83L4 21.41c.39.39.9.59 1.41.59.51 0 1.02-.2 1.41-.59l7.78-7.78 2.81-2.81c.8-.78.8-2.07 0-2.86zM5.41 20L4 18.59l7.72-7.72 1.47 1.35L5.41 20z\"/>\n",
              "  </svg>\n",
              "      </button>\n",
              "      \n",
              "  <style>\n",
              "    .colab-df-container {\n",
              "      display:flex;\n",
              "      flex-wrap:wrap;\n",
              "      gap: 12px;\n",
              "    }\n",
              "\n",
              "    .colab-df-convert {\n",
              "      background-color: #E8F0FE;\n",
              "      border: none;\n",
              "      border-radius: 50%;\n",
              "      cursor: pointer;\n",
              "      display: none;\n",
              "      fill: #1967D2;\n",
              "      height: 32px;\n",
              "      padding: 0 0 0 0;\n",
              "      width: 32px;\n",
              "    }\n",
              "\n",
              "    .colab-df-convert:hover {\n",
              "      background-color: #E2EBFA;\n",
              "      box-shadow: 0px 1px 2px rgba(60, 64, 67, 0.3), 0px 1px 3px 1px rgba(60, 64, 67, 0.15);\n",
              "      fill: #174EA6;\n",
              "    }\n",
              "\n",
              "    [theme=dark] .colab-df-convert {\n",
              "      background-color: #3B4455;\n",
              "      fill: #D2E3FC;\n",
              "    }\n",
              "\n",
              "    [theme=dark] .colab-df-convert:hover {\n",
              "      background-color: #434B5C;\n",
              "      box-shadow: 0px 1px 3px 1px rgba(0, 0, 0, 0.15);\n",
              "      filter: drop-shadow(0px 1px 2px rgba(0, 0, 0, 0.3));\n",
              "      fill: #FFFFFF;\n",
              "    }\n",
              "  </style>\n",
              "\n",
              "      <script>\n",
              "        const buttonEl =\n",
              "          document.querySelector('#df-96e400c9-a810-4b7f-9c34-57f683825204 button.colab-df-convert');\n",
              "        buttonEl.style.display =\n",
              "          google.colab.kernel.accessAllowed ? 'block' : 'none';\n",
              "\n",
              "        async function convertToInteractive(key) {\n",
              "          const element = document.querySelector('#df-96e400c9-a810-4b7f-9c34-57f683825204');\n",
              "          const dataTable =\n",
              "            await google.colab.kernel.invokeFunction('convertToInteractive',\n",
              "                                                     [key], {});\n",
              "          if (!dataTable) return;\n",
              "\n",
              "          const docLinkHtml = 'Like what you see? Visit the ' +\n",
              "            '<a target=\"_blank\" href=https://colab.research.google.com/notebooks/data_table.ipynb>data table notebook</a>'\n",
              "            + ' to learn more about interactive tables.';\n",
              "          element.innerHTML = '';\n",
              "          dataTable['output_type'] = 'display_data';\n",
              "          await google.colab.output.renderOutput(dataTable, element);\n",
              "          const docLink = document.createElement('div');\n",
              "          docLink.innerHTML = docLinkHtml;\n",
              "          element.appendChild(docLink);\n",
              "        }\n",
              "      </script>\n",
              "    </div>\n",
              "  </div>\n",
              "  "
            ],
            "text/plain": [
              "                                   F1_score             Accuracy\n",
              "Log_Reg(Before Resamp)                 0.00                 0.96\n",
              "Log_Reg(After Resamp)                  0.57                 0.59\n",
              "SVC                                    0.56                 0.59\n",
              "XGBoost                                1.00                 1.00\n",
              "AdaBoost                               0.59                 0.60\n",
              "MLP Classifier                         0.62                 0.60"
            ]
          },
          "metadata": {},
          "execution_count": 32
        }
      ],
      "source": [
        "#Final Result\n",
        "data = {'Log_Reg(Before Resamp)':[np.round(f1_score(y_Test, y_pred_logreg1),3), np.round(metrics.accuracy_score(y_Test, y_pred_logreg1),3)],\n",
        "        'Log_Reg(After Resamp)':[np.round(f1_score(y_test, y_pred_logreg2),3), np.round(metrics.accuracy_score(y_test, y_pred_logreg2),3)],\n",
        "        'SVC':[np.round(f1_score(y_test, y_pred_svc),3), np.round(metrics.accuracy_score(y_test, y_pred_svc),3)],\n",
        "        'XGBoost':[np.round(f1_score(y_test, y_pred_xgb),3), np.round(metrics.accuracy_score(y_test, y_pred_xgb),3)],\n",
        "        'AdaBoost':[np.round(f1_score(y_test, y_pred_ada),3), np.round(metrics.accuracy_score(y_test, y_pred_ada),3)],\n",
        "        'MLP Classifier':[np.round(f1_score(y_test, y_predic),3), np.round(metrics.accuracy_score(y_test, y_predic),3)]}\n",
        "\n",
        "df_result=pd.DataFrame(data, index = ['F1_score', 'Accuracy']).T\n",
        "df_result"
      ]
    },
    {
      "cell_type": "code",
      "execution_count": 32,
      "metadata": {
        "id": "cMzsGD7dSsGA"
      },
      "outputs": [],
      "source": [
        ""
      ]
    }
  ],
  "metadata": {
    "accelerator": "GPU",
    "colab": {
      "collapsed_sections": [],
      "name": "Auto Insurance",
      "provenance": [],
      "authorship_tag": "ABX9TyMgP65BpawGIC8P5Ke7SC6B",
      "include_colab_link": true
    },
    "kernelspec": {
      "display_name": "Python 3",
      "name": "python3"
    },
    "language_info": {
      "name": "python"
    }
  },
  "nbformat": 4,
  "nbformat_minor": 0
}